{
 "cells": [
  {
   "cell_type": "markdown",
   "metadata": {},
   "source": [
    "# Airbnb Analysis into London Listings"
   ]
  },
  {
   "cell_type": "markdown",
   "metadata": {},
   "source": [
    "### Business Understanding\n"
   ]
  },
  {
   "cell_type": "markdown",
   "metadata": {},
   "source": [
    "In the following analysis we will import Airbnb's London listings and review datasets, cleanses and analyse it to figure out how much money Airbnb makes from its London listing's. Then we will model the dataset using monte-carlo simulation, to see if we can simulate the underlying distribution for listing in London."
   ]
  },
  {
   "cell_type": "code",
   "execution_count": null,
   "metadata": {},
   "outputs": [],
   "source": [
    "# import libraries\n",
    "import pandas as pd\n",
    "import matplotlib.pyplot as plt \n",
    "import numpy as np\n",
    "import random\n",
    "from scipy.stats import expon\n",
    "from scipy.stats import gamma\n",
    "from numpy import array\n",
    "import seaborn as sns\n",
    "import plotly\n",
    "import plotly.plotly as py\n",
    "import plotly.graph_objs as go\n",
    "import time\n",
    "plotly.offline.init_notebook_mode()\n",
    "sns.set(color_codes=True)\n",
    "sns.set(rc={'figure.figsize':(5,5)})\n"
   ]
  },
  {
   "cell_type": "markdown",
   "metadata": {},
   "source": [
    "### Data Understanding\n"
   ]
  },
  {
   "cell_type": "markdown",
   "metadata": {},
   "source": [
    "Below we will investigate the data-sets"
   ]
  },
  {
   "cell_type": "code",
   "execution_count": 2,
   "metadata": {},
   "outputs": [
    {
     "data": {
      "text/html": [
       "<div>\n",
       "<style scoped>\n",
       "    .dataframe tbody tr th:only-of-type {\n",
       "        vertical-align: middle;\n",
       "    }\n",
       "\n",
       "    .dataframe tbody tr th {\n",
       "        vertical-align: top;\n",
       "    }\n",
       "\n",
       "    .dataframe thead th {\n",
       "        text-align: right;\n",
       "    }\n",
       "</style>\n",
       "<table border=\"1\" class=\"dataframe\">\n",
       "  <thead>\n",
       "    <tr style=\"text-align: right;\">\n",
       "      <th></th>\n",
       "      <th>id</th>\n",
       "      <th>name</th>\n",
       "      <th>host_id</th>\n",
       "      <th>host_name</th>\n",
       "      <th>neighbourhood_group</th>\n",
       "      <th>neighbourhood</th>\n",
       "      <th>latitude</th>\n",
       "      <th>longitude</th>\n",
       "      <th>room_type</th>\n",
       "      <th>price</th>\n",
       "      <th>minimum_nights</th>\n",
       "      <th>number_of_reviews</th>\n",
       "      <th>last_review</th>\n",
       "      <th>reviews_per_month</th>\n",
       "      <th>calculated_host_listings_count</th>\n",
       "      <th>availability_365</th>\n",
       "    </tr>\n",
       "  </thead>\n",
       "  <tbody>\n",
       "    <tr>\n",
       "      <th>0</th>\n",
       "      <td>11551</td>\n",
       "      <td>Stylish and bright London apartment in Zone 2</td>\n",
       "      <td>43039</td>\n",
       "      <td>Adriano</td>\n",
       "      <td>NaN</td>\n",
       "      <td>Lambeth</td>\n",
       "      <td>51.46225</td>\n",
       "      <td>-0.11732</td>\n",
       "      <td>Entire home/apt</td>\n",
       "      <td>88</td>\n",
       "      <td>2</td>\n",
       "      <td>183</td>\n",
       "      <td>2018-08-22</td>\n",
       "      <td>1.65</td>\n",
       "      <td>2</td>\n",
       "      <td>290</td>\n",
       "    </tr>\n",
       "    <tr>\n",
       "      <th>1</th>\n",
       "      <td>13913</td>\n",
       "      <td>Holiday London DB Room Let-on going</td>\n",
       "      <td>54730</td>\n",
       "      <td>Alina</td>\n",
       "      <td>NaN</td>\n",
       "      <td>Islington</td>\n",
       "      <td>51.56802</td>\n",
       "      <td>-0.11121</td>\n",
       "      <td>Private room</td>\n",
       "      <td>65</td>\n",
       "      <td>1</td>\n",
       "      <td>14</td>\n",
       "      <td>2018-06-17</td>\n",
       "      <td>0.13</td>\n",
       "      <td>3</td>\n",
       "      <td>362</td>\n",
       "    </tr>\n",
       "    <tr>\n",
       "      <th>2</th>\n",
       "      <td>15400</td>\n",
       "      <td>Bright Chelsea  Apartment. Chelsea!</td>\n",
       "      <td>60302</td>\n",
       "      <td>Philippa</td>\n",
       "      <td>NaN</td>\n",
       "      <td>Kensington and Chelsea</td>\n",
       "      <td>51.48796</td>\n",
       "      <td>-0.16898</td>\n",
       "      <td>Entire home/apt</td>\n",
       "      <td>100</td>\n",
       "      <td>3</td>\n",
       "      <td>84</td>\n",
       "      <td>2019-04-22</td>\n",
       "      <td>0.74</td>\n",
       "      <td>1</td>\n",
       "      <td>155</td>\n",
       "    </tr>\n",
       "    <tr>\n",
       "      <th>3</th>\n",
       "      <td>17402</td>\n",
       "      <td>Superb 3-Bed/2 Bath &amp; Wifi: Trendy W1</td>\n",
       "      <td>67564</td>\n",
       "      <td>Liz</td>\n",
       "      <td>NaN</td>\n",
       "      <td>Westminster</td>\n",
       "      <td>51.52098</td>\n",
       "      <td>-0.14002</td>\n",
       "      <td>Entire home/apt</td>\n",
       "      <td>300</td>\n",
       "      <td>3</td>\n",
       "      <td>40</td>\n",
       "      <td>2019-04-20</td>\n",
       "      <td>0.40</td>\n",
       "      <td>13</td>\n",
       "      <td>230</td>\n",
       "    </tr>\n",
       "    <tr>\n",
       "      <th>4</th>\n",
       "      <td>24328</td>\n",
       "      <td>Battersea bedroom &amp; office w parking shared ga...</td>\n",
       "      <td>41759</td>\n",
       "      <td>Joe</td>\n",
       "      <td>NaN</td>\n",
       "      <td>Wandsworth</td>\n",
       "      <td>51.47298</td>\n",
       "      <td>-0.16376</td>\n",
       "      <td>Entire home/apt</td>\n",
       "      <td>175</td>\n",
       "      <td>30</td>\n",
       "      <td>92</td>\n",
       "      <td>2016-09-07</td>\n",
       "      <td>0.89</td>\n",
       "      <td>1</td>\n",
       "      <td>332</td>\n",
       "    </tr>\n",
       "  </tbody>\n",
       "</table>\n",
       "</div>"
      ],
      "text/plain": [
       "      id                                               name  host_id  \\\n",
       "0  11551      Stylish and bright London apartment in Zone 2    43039   \n",
       "1  13913                Holiday London DB Room Let-on going    54730   \n",
       "2  15400                Bright Chelsea  Apartment. Chelsea!    60302   \n",
       "3  17402              Superb 3-Bed/2 Bath & Wifi: Trendy W1    67564   \n",
       "4  24328  Battersea bedroom & office w parking shared ga...    41759   \n",
       "\n",
       "  host_name  neighbourhood_group           neighbourhood  latitude  longitude  \\\n",
       "0   Adriano                  NaN                 Lambeth  51.46225   -0.11732   \n",
       "1     Alina                  NaN               Islington  51.56802   -0.11121   \n",
       "2  Philippa                  NaN  Kensington and Chelsea  51.48796   -0.16898   \n",
       "3       Liz                  NaN             Westminster  51.52098   -0.14002   \n",
       "4       Joe                  NaN              Wandsworth  51.47298   -0.16376   \n",
       "\n",
       "         room_type  price  minimum_nights  number_of_reviews last_review  \\\n",
       "0  Entire home/apt     88               2                183  2018-08-22   \n",
       "1     Private room     65               1                 14  2018-06-17   \n",
       "2  Entire home/apt    100               3                 84  2019-04-22   \n",
       "3  Entire home/apt    300               3                 40  2019-04-20   \n",
       "4  Entire home/apt    175              30                 92  2016-09-07   \n",
       "\n",
       "   reviews_per_month  calculated_host_listings_count  availability_365  \n",
       "0               1.65                               2               290  \n",
       "1               0.13                               3               362  \n",
       "2               0.74                               1               155  \n",
       "3               0.40                              13               230  \n",
       "4               0.89                               1               332  "
      ]
     },
     "execution_count": 2,
     "metadata": {},
     "output_type": "execute_result"
    }
   ],
   "source": [
    "# read in the listings\n",
    "listings_df = pd.read_csv(\"./Data/london_listings.csv\")\n",
    "listings_df.head()\n",
    "\n"
   ]
  },
  {
   "cell_type": "code",
   "execution_count": 3,
   "metadata": {},
   "outputs": [
    {
     "data": {
      "text/html": [
       "<div>\n",
       "<style scoped>\n",
       "    .dataframe tbody tr th:only-of-type {\n",
       "        vertical-align: middle;\n",
       "    }\n",
       "\n",
       "    .dataframe tbody tr th {\n",
       "        vertical-align: top;\n",
       "    }\n",
       "\n",
       "    .dataframe thead th {\n",
       "        text-align: right;\n",
       "    }\n",
       "</style>\n",
       "<table border=\"1\" class=\"dataframe\">\n",
       "  <thead>\n",
       "    <tr style=\"text-align: right;\">\n",
       "      <th></th>\n",
       "      <th>listing_id</th>\n",
       "      <th>date</th>\n",
       "    </tr>\n",
       "  </thead>\n",
       "  <tbody>\n",
       "    <tr>\n",
       "      <th>0</th>\n",
       "      <td>11551</td>\n",
       "      <td>2010-03-21</td>\n",
       "    </tr>\n",
       "    <tr>\n",
       "      <th>1</th>\n",
       "      <td>11551</td>\n",
       "      <td>2010-03-29</td>\n",
       "    </tr>\n",
       "    <tr>\n",
       "      <th>2</th>\n",
       "      <td>11551</td>\n",
       "      <td>2010-05-09</td>\n",
       "    </tr>\n",
       "    <tr>\n",
       "      <th>3</th>\n",
       "      <td>11551</td>\n",
       "      <td>2010-06-01</td>\n",
       "    </tr>\n",
       "    <tr>\n",
       "      <th>4</th>\n",
       "      <td>11551</td>\n",
       "      <td>2010-06-28</td>\n",
       "    </tr>\n",
       "  </tbody>\n",
       "</table>\n",
       "</div>"
      ],
      "text/plain": [
       "   listing_id       date\n",
       "0       11551 2010-03-21\n",
       "1       11551 2010-03-29\n",
       "2       11551 2010-05-09\n",
       "3       11551 2010-06-01\n",
       "4       11551 2010-06-28"
      ]
     },
     "execution_count": 3,
     "metadata": {},
     "output_type": "execute_result"
    }
   ],
   "source": [
    "# read in the reviews\n",
    "reviews_df = pd.read_csv(\"./Data/london_reviews.csv\")\n",
    "reviews_df['date'] = pd.to_datetime(reviews_df['date'])\n",
    "reviews_df.head()\n"
   ]
  },
  {
   "cell_type": "code",
   "execution_count": 5,
   "metadata": {},
   "outputs": [
    {
     "name": "stdout",
     "output_type": "stream",
     "text": [
      "--------------\n",
      "Review shape\n",
      "(41188, 1)\n",
      "--------------\n",
      "Listing shape\n",
      "(80767, 16)\n",
      "--------------\n",
      "NANs in reviews\n",
      "date    0\n",
      "dtype: int64\n",
      "--------------\n",
      "NANs in listings\n",
      "id                                    0\n",
      "name                                 27\n",
      "host_id                               0\n",
      "host_name                            49\n",
      "neighbourhood_group               80767\n",
      "neighbourhood                         0\n",
      "latitude                              0\n",
      "longitude                             0\n",
      "room_type                             0\n",
      "price                                 0\n",
      "minimum_nights                        0\n",
      "number_of_reviews                     0\n",
      "last_review                       20573\n",
      "reviews_per_month                 20573\n",
      "calculated_host_listings_count        0\n",
      "availability_365                      0\n",
      "dtype: int64\n"
     ]
    }
   ],
   "source": [
    "# summary stats around each dataframe\n",
    "print('--------------')\n",
    "print('Review shape')\n",
    "print(reviews_df.shape)\n",
    "\n",
    "print('--------------')\n",
    "print('Listing shape')\n",
    "print(listings_df.shape)\n",
    "\n",
    "print('--------------')\n",
    "print('NANs in reviews')\n",
    "print(reviews_df.isna().sum())\n",
    "\n",
    "print('--------------')\n",
    "print('NANs in listings')\n",
    "print(listings_df.isna().sum())\n",
    "\n",
    "\n",
    "\n"
   ]
  },
  {
   "cell_type": "code",
   "execution_count": 6,
   "metadata": {},
   "outputs": [
    {
     "name": "stdout",
     "output_type": "stream",
     "text": [
      "               date\n",
      "count  41188.000000\n",
      "mean      11.349034\n",
      "std       14.649154\n",
      "min        1.000000\n",
      "25%        2.000000\n",
      "50%        6.000000\n",
      "75%       14.000000\n",
      "max      197.000000\n"
     ]
    }
   ],
   "source": [
    "# describe review\n",
    " \n",
    "print(reviews_df.describe())\n",
    "\n",
    "\n"
   ]
  },
  {
   "cell_type": "code",
   "execution_count": 7,
   "metadata": {},
   "outputs": [
    {
     "name": "stdout",
     "output_type": "stream",
     "text": [
      "                 id       host_id  neighbourhood_group      latitude  \\\n",
      "count  8.076700e+04  8.076700e+04                  0.0  80767.000000   \n",
      "mean   2.009068e+07  7.365350e+07                  NaN     51.509442   \n",
      "std    9.608593e+06  7.348884e+07                  NaN      0.046211   \n",
      "min    1.155100e+04  2.010000e+03                  NaN     51.294790   \n",
      "25%    1.307544e+07  1.377122e+07                  NaN     51.485300   \n",
      "50%    2.118483e+07  4.236404e+07                  NaN     51.513820   \n",
      "75%    2.831253e+07  1.251137e+08                  NaN     51.537260   \n",
      "max    3.444359e+07  2.599774e+08                  NaN     51.681690   \n",
      "\n",
      "          longitude         price  minimum_nights  number_of_reviews  \\\n",
      "count  80767.000000  80767.000000    80767.000000       80767.000000   \n",
      "mean      -0.128137    118.321022        4.353189          16.104436   \n",
      "std        0.092021    211.199175       22.311627          34.173312   \n",
      "min       -0.496960      0.000000        1.000000           0.000000   \n",
      "25%       -0.188020     45.000000        1.000000           0.000000   \n",
      "50%       -0.125610     80.000000        2.000000           4.000000   \n",
      "75%       -0.070220    135.000000        3.000000          16.000000   \n",
      "max        0.317520  13700.000000     1125.000000         639.000000   \n",
      "\n",
      "       reviews_per_month  calculated_host_listings_count  availability_365  \n",
      "count        60194.00000                    80767.000000      80767.000000  \n",
      "mean             1.14256                       24.376305        114.919831  \n",
      "std              1.35086                      129.968962        130.516674  \n",
      "min              0.01000                        1.000000          0.000000  \n",
      "25%              0.24000                        1.000000          0.000000  \n",
      "50%              0.69000                        1.000000         59.000000  \n",
      "75%              1.52000                        4.000000        223.000000  \n",
      "max             20.00000                     1104.000000        365.000000  \n"
     ]
    }
   ],
   "source": [
    "# describe listings\n",
    " \n",
    "print(listings_df.describe())\n",
    "\n",
    "\n"
   ]
  },
  {
   "cell_type": "code",
   "execution_count": 8,
   "metadata": {},
   "outputs": [
    {
     "data": {
      "image/png": "[encoded data removed]",
      "text/plain": [
       "<Figure size 360x360 with 1 Axes>"
      ]
     },
     "metadata": {},
     "output_type": "display_data"
    }
   ],
   "source": [
    "# distrbution of prices\n",
    "listings_df['price'].hist(bins=100);\n",
    "\n"
   ]
  },
  {
   "cell_type": "code",
   "execution_count": 9,
   "metadata": {},
   "outputs": [
    {
     "data": {
      "image/png": "[encoded data removed]",
      "text/plain": [
       "<Figure size 360x360 with 1 Axes>"
      ]
     },
     "metadata": {},
     "output_type": "display_data"
    }
   ],
   "source": [
    "# box plot of prices\n",
    "boxplot = listings_df.boxplot(column=['price'])\n",
    "\n"
   ]
  },
  {
   "cell_type": "code",
   "execution_count": 10,
   "metadata": {},
   "outputs": [
    {
     "data": {
      "text/plain": [
       "(array([8.0623e+04, 8.7000e+01, 2.1000e+01, 1.5000e+01, 5.0000e+00,\n",
       "        7.0000e+00, 0.0000e+00, 5.0000e+00, 1.0000e+00, 3.0000e+00]),\n",
       " array([    0.,  1370.,  2740.,  4110.,  5480.,  6850.,  8220.,  9590.,\n",
       "        10960., 12330., 13700.]),\n",
       " <a list of 10 Patch objects>)"
      ]
     },
     "execution_count": 10,
     "metadata": {},
     "output_type": "execute_result"
    },
    {
     "data": {
      "image/png": "[encoded data removed]",
      "text/plain": [
       "<Figure size 360x360 with 1 Axes>"
      ]
     },
     "metadata": {},
     "output_type": "display_data"
    }
   ],
   "source": [
    "# distrbution of prices in log transform\n",
    "plt.hist(listings_df['price'], log=True) \n",
    "\n",
    "\n"
   ]
  },
  {
   "cell_type": "code",
   "execution_count": 11,
   "metadata": {},
   "outputs": [
    {
     "data": {
      "image/png": "[encoded data removed]",
      "text/plain": [
       "<Figure size 360x360 with 1 Axes>"
      ]
     },
     "metadata": {},
     "output_type": "display_data"
    }
   ],
   "source": [
    "# distrbution of dates\n",
    "reviews_df['date'].hist(bins=100);\n",
    "\n"
   ]
  },
  {
   "cell_type": "code",
   "execution_count": 12,
   "metadata": {},
   "outputs": [
    {
     "data": {
      "text/plain": [
       "count    41188.000000\n",
       "mean        11.349034\n",
       "std         14.649154\n",
       "min          1.000000\n",
       "25%          2.000000\n",
       "50%          6.000000\n",
       "75%         14.000000\n",
       "max        197.000000\n",
       "Name: date, dtype: float64"
      ]
     },
     "execution_count": 12,
     "metadata": {},
     "output_type": "execute_result"
    }
   ],
   "source": [
    "# describe of dates\n",
    "reviews_df['date'].describe()\n",
    "\n",
    "\n"
   ]
  },
  {
   "cell_type": "markdown",
   "metadata": {},
   "source": [
    "### Prepare Data\n"
   ]
  },
  {
   "cell_type": "markdown",
   "metadata": {},
   "source": [
    "Here we will filter out dates just to 2018. Then we will group by the individual listing ids (the respective unique properties) and count the number of times the listing was used in 2018. Once we have manipulated the review file to be aggregated to one line per entry in the listing files we can join them."
   ]
  },
  {
   "cell_type": "code",
   "execution_count": 4,
   "metadata": {},
   "outputs": [
    {
     "data": {
      "text/html": [
       "<div>\n",
       "<style scoped>\n",
       "    .dataframe tbody tr th:only-of-type {\n",
       "        vertical-align: middle;\n",
       "    }\n",
       "\n",
       "    .dataframe tbody tr th {\n",
       "        vertical-align: top;\n",
       "    }\n",
       "\n",
       "    .dataframe thead th {\n",
       "        text-align: right;\n",
       "    }\n",
       "</style>\n",
       "<table border=\"1\" class=\"dataframe\">\n",
       "  <thead>\n",
       "    <tr style=\"text-align: right;\">\n",
       "      <th></th>\n",
       "      <th>date</th>\n",
       "    </tr>\n",
       "    <tr>\n",
       "      <th>listing_id</th>\n",
       "      <th></th>\n",
       "    </tr>\n",
       "  </thead>\n",
       "  <tbody>\n",
       "    <tr>\n",
       "      <th>11551</th>\n",
       "      <td>7</td>\n",
       "    </tr>\n",
       "    <tr>\n",
       "      <th>13913</th>\n",
       "      <td>3</td>\n",
       "    </tr>\n",
       "    <tr>\n",
       "      <th>15400</th>\n",
       "      <td>3</td>\n",
       "    </tr>\n",
       "    <tr>\n",
       "      <th>17402</th>\n",
       "      <td>14</td>\n",
       "    </tr>\n",
       "    <tr>\n",
       "      <th>25023</th>\n",
       "      <td>6</td>\n",
       "    </tr>\n",
       "  </tbody>\n",
       "</table>\n",
       "</div>"
      ],
      "text/plain": [
       "            date\n",
       "listing_id      \n",
       "11551          7\n",
       "13913          3\n",
       "15400          3\n",
       "17402         14\n",
       "25023          6"
      ]
     },
     "execution_count": 4,
     "metadata": {},
     "output_type": "execute_result"
    }
   ],
   "source": [
    "# filter dates \n",
    "\n",
    "start_date = '2018-01-01'\n",
    "end_date = '2018-12-31'\n",
    "mask = (reviews_df['date'] > start_date) & (reviews_df['date'] <= end_date)\n",
    "reviews_df = reviews_df.loc[mask]\n",
    "reviews_df = reviews_df.groupby('listing_id').count()\n",
    "reviews_df.head()\n"
   ]
  },
  {
   "cell_type": "code",
   "execution_count": 13,
   "metadata": {},
   "outputs": [
    {
     "data": {
      "text/html": [
       "<div>\n",
       "<style scoped>\n",
       "    .dataframe tbody tr th:only-of-type {\n",
       "        vertical-align: middle;\n",
       "    }\n",
       "\n",
       "    .dataframe tbody tr th {\n",
       "        vertical-align: top;\n",
       "    }\n",
       "\n",
       "    .dataframe thead th {\n",
       "        text-align: right;\n",
       "    }\n",
       "</style>\n",
       "<table border=\"1\" class=\"dataframe\">\n",
       "  <thead>\n",
       "    <tr style=\"text-align: right;\">\n",
       "      <th></th>\n",
       "      <th>id</th>\n",
       "      <th>name</th>\n",
       "      <th>host_id</th>\n",
       "      <th>host_name</th>\n",
       "      <th>neighbourhood_group</th>\n",
       "      <th>neighbourhood</th>\n",
       "      <th>latitude</th>\n",
       "      <th>longitude</th>\n",
       "      <th>room_type</th>\n",
       "      <th>price</th>\n",
       "      <th>minimum_nights</th>\n",
       "      <th>number_of_reviews</th>\n",
       "      <th>last_review</th>\n",
       "      <th>reviews_per_month</th>\n",
       "      <th>calculated_host_listings_count</th>\n",
       "      <th>availability_365</th>\n",
       "      <th>date</th>\n",
       "    </tr>\n",
       "  </thead>\n",
       "  <tbody>\n",
       "    <tr>\n",
       "      <th>0</th>\n",
       "      <td>11551</td>\n",
       "      <td>Stylish and bright London apartment in Zone 2</td>\n",
       "      <td>43039</td>\n",
       "      <td>Adriano</td>\n",
       "      <td>NaN</td>\n",
       "      <td>Lambeth</td>\n",
       "      <td>51.46225</td>\n",
       "      <td>-0.11732</td>\n",
       "      <td>Entire home/apt</td>\n",
       "      <td>88</td>\n",
       "      <td>2</td>\n",
       "      <td>183</td>\n",
       "      <td>2018-08-22</td>\n",
       "      <td>1.65</td>\n",
       "      <td>2</td>\n",
       "      <td>290</td>\n",
       "      <td>7</td>\n",
       "    </tr>\n",
       "    <tr>\n",
       "      <th>1</th>\n",
       "      <td>13913</td>\n",
       "      <td>Holiday London DB Room Let-on going</td>\n",
       "      <td>54730</td>\n",
       "      <td>Alina</td>\n",
       "      <td>NaN</td>\n",
       "      <td>Islington</td>\n",
       "      <td>51.56802</td>\n",
       "      <td>-0.11121</td>\n",
       "      <td>Private room</td>\n",
       "      <td>65</td>\n",
       "      <td>1</td>\n",
       "      <td>14</td>\n",
       "      <td>2018-06-17</td>\n",
       "      <td>0.13</td>\n",
       "      <td>3</td>\n",
       "      <td>362</td>\n",
       "      <td>3</td>\n",
       "    </tr>\n",
       "    <tr>\n",
       "      <th>2</th>\n",
       "      <td>15400</td>\n",
       "      <td>Bright Chelsea  Apartment. Chelsea!</td>\n",
       "      <td>60302</td>\n",
       "      <td>Philippa</td>\n",
       "      <td>NaN</td>\n",
       "      <td>Kensington and Chelsea</td>\n",
       "      <td>51.48796</td>\n",
       "      <td>-0.16898</td>\n",
       "      <td>Entire home/apt</td>\n",
       "      <td>100</td>\n",
       "      <td>3</td>\n",
       "      <td>84</td>\n",
       "      <td>2019-04-22</td>\n",
       "      <td>0.74</td>\n",
       "      <td>1</td>\n",
       "      <td>155</td>\n",
       "      <td>3</td>\n",
       "    </tr>\n",
       "    <tr>\n",
       "      <th>3</th>\n",
       "      <td>17402</td>\n",
       "      <td>Superb 3-Bed/2 Bath &amp; Wifi: Trendy W1</td>\n",
       "      <td>67564</td>\n",
       "      <td>Liz</td>\n",
       "      <td>NaN</td>\n",
       "      <td>Westminster</td>\n",
       "      <td>51.52098</td>\n",
       "      <td>-0.14002</td>\n",
       "      <td>Entire home/apt</td>\n",
       "      <td>300</td>\n",
       "      <td>3</td>\n",
       "      <td>40</td>\n",
       "      <td>2019-04-20</td>\n",
       "      <td>0.40</td>\n",
       "      <td>13</td>\n",
       "      <td>230</td>\n",
       "      <td>14</td>\n",
       "    </tr>\n",
       "    <tr>\n",
       "      <th>4</th>\n",
       "      <td>25023</td>\n",
       "      <td>All-comforts 2-bed flat near Wimbledon tennis</td>\n",
       "      <td>102813</td>\n",
       "      <td>Amanda</td>\n",
       "      <td>NaN</td>\n",
       "      <td>Wandsworth</td>\n",
       "      <td>51.44687</td>\n",
       "      <td>-0.21874</td>\n",
       "      <td>Entire home/apt</td>\n",
       "      <td>65</td>\n",
       "      <td>4</td>\n",
       "      <td>27</td>\n",
       "      <td>2019-03-11</td>\n",
       "      <td>0.70</td>\n",
       "      <td>1</td>\n",
       "      <td>9</td>\n",
       "      <td>6</td>\n",
       "    </tr>\n",
       "  </tbody>\n",
       "</table>\n",
       "</div>"
      ],
      "text/plain": [
       "      id                                           name  host_id host_name  \\\n",
       "0  11551  Stylish and bright London apartment in Zone 2    43039   Adriano   \n",
       "1  13913            Holiday London DB Room Let-on going    54730     Alina   \n",
       "2  15400            Bright Chelsea  Apartment. Chelsea!    60302  Philippa   \n",
       "3  17402          Superb 3-Bed/2 Bath & Wifi: Trendy W1    67564       Liz   \n",
       "4  25023  All-comforts 2-bed flat near Wimbledon tennis   102813    Amanda   \n",
       "\n",
       "   neighbourhood_group           neighbourhood  latitude  longitude  \\\n",
       "0                  NaN                 Lambeth  51.46225   -0.11732   \n",
       "1                  NaN               Islington  51.56802   -0.11121   \n",
       "2                  NaN  Kensington and Chelsea  51.48796   -0.16898   \n",
       "3                  NaN             Westminster  51.52098   -0.14002   \n",
       "4                  NaN              Wandsworth  51.44687   -0.21874   \n",
       "\n",
       "         room_type  price  minimum_nights  number_of_reviews last_review  \\\n",
       "0  Entire home/apt     88               2                183  2018-08-22   \n",
       "1     Private room     65               1                 14  2018-06-17   \n",
       "2  Entire home/apt    100               3                 84  2019-04-22   \n",
       "3  Entire home/apt    300               3                 40  2019-04-20   \n",
       "4  Entire home/apt     65               4                 27  2019-03-11   \n",
       "\n",
       "   reviews_per_month  calculated_host_listings_count  availability_365  date  \n",
       "0               1.65                               2               290     7  \n",
       "1               0.13                               3               362     3  \n",
       "2               0.74                               1               155     3  \n",
       "3               0.40                              13               230    14  \n",
       "4               0.70                               1                 9     6  "
      ]
     },
     "execution_count": 13,
     "metadata": {},
     "output_type": "execute_result"
    }
   ],
   "source": [
    "# merge listings and reviews\n",
    "df = pd.merge(listings_df, reviews_df, left_on='id', right_on='listing_id')\n",
    "df.head()\n",
    "\n",
    "\n"
   ]
  },
  {
   "cell_type": "code",
   "execution_count": 14,
   "metadata": {},
   "outputs": [
    {
     "name": "stdout",
     "output_type": "stream",
     "text": [
      "41188\n",
      "41188\n"
     ]
    }
   ],
   "source": [
    "# check each id is unique - one row per id\n",
    "print(len(df['id'].unique().tolist()))\n",
    "print(df['id'].count())\n",
    "\n",
    "\n"
   ]
  },
  {
   "cell_type": "code",
   "execution_count": 15,
   "metadata": {},
   "outputs": [
    {
     "name": "stdout",
     "output_type": "stream",
     "text": [
      "                 id       host_id  neighbourhood_group      latitude  \\\n",
      "count  4.118800e+04  4.118800e+04                  0.0  41188.000000   \n",
      "mean   1.867687e+07  6.576282e+07                  NaN     51.509152   \n",
      "std    8.465046e+06  6.563704e+07                  NaN      0.044945   \n",
      "min    1.155100e+04  2.010000e+03                  NaN     51.294790   \n",
      "25%    1.329791e+07  1.117368e+07                  NaN     51.486200   \n",
      "50%    2.067337e+07  3.795253e+07                  NaN     51.513710   \n",
      "75%    2.540276e+07  1.129129e+08                  NaN     51.535420   \n",
      "max    3.120145e+07  2.416394e+08                  NaN     51.679200   \n",
      "\n",
      "          longitude         price  minimum_nights  number_of_reviews  \\\n",
      "count  41188.000000  41188.000000    41188.000000       41188.000000   \n",
      "mean      -0.129145    105.924565        4.025833          28.845076   \n",
      "std        0.090371    150.092166       25.444193          43.535392   \n",
      "min       -0.496960      0.000000        1.000000           1.000000   \n",
      "25%       -0.187903     45.000000        1.000000           5.000000   \n",
      "50%       -0.125500     80.000000        2.000000          14.000000   \n",
      "75%       -0.071460    130.000000        3.000000          33.000000   \n",
      "max        0.272080  12345.000000     1124.000000         639.000000   \n",
      "\n",
      "       reviews_per_month  calculated_host_listings_count  availability_365  \\\n",
      "count       41188.000000                    41188.000000      41188.000000   \n",
      "mean            1.260230                       15.653103        126.517457   \n",
      "std             1.354695                       88.647148        127.157563   \n",
      "min             0.020000                        1.000000          0.000000   \n",
      "25%             0.350000                        1.000000          3.000000   \n",
      "50%             0.810000                        2.000000         83.000000   \n",
      "75%             1.660000                        5.000000        247.000000   \n",
      "max            14.970000                     1104.000000        365.000000   \n",
      "\n",
      "               date  \n",
      "count  41188.000000  \n",
      "mean      11.349034  \n",
      "std       14.649154  \n",
      "min        1.000000  \n",
      "25%        2.000000  \n",
      "50%        6.000000  \n",
      "75%       14.000000  \n",
      "max      197.000000  \n"
     ]
    }
   ],
   "source": [
    "# describe merged dfs\n",
    " \n",
    "print(df.describe())\n",
    "\n",
    "\n"
   ]
  },
  {
   "cell_type": "code",
   "execution_count": 16,
   "metadata": {},
   "outputs": [
    {
     "data": {
      "text/plain": [
       "0     2.413793\n",
       "1     0.828729\n",
       "2     1.935484\n",
       "3     6.086957\n",
       "4    66.666667\n",
       "Name: useage, dtype: float64"
      ]
     },
     "execution_count": 16,
     "metadata": {},
     "output_type": "execute_result"
    }
   ],
   "source": [
    "# Percentage of dates compared to availablity\n",
    "def check_dates(df):\n",
    "    \"\"\"\n",
    "    This function checks if the number of dates the property was \n",
    "    used went over the availability. If so then it changes the availability \n",
    "    of the property to 365.\n",
    "    Args:\n",
    "    - df (pandas dataframe)\n",
    "    Return:\n",
    "    - returns column availability_365 results \n",
    "    \"\"\"\n",
    "    if (df['date'] > df['availability_365'] ):\n",
    "        return 365\n",
    "    elif (df['date'] <= df['availability_365'] ):\n",
    "        return df['availability_365'] \n",
    "\n",
    "df = df[(df[['availability_365']] != 0).all(axis=1)]\n",
    "df['availability_365'] = df.apply(check_dates, axis = 1)\n",
    "\n",
    "df['useage'] = df['date']/df['availability_365'] * 100\n",
    "df['useage'].head()\n",
    "\n",
    "\n",
    "\n",
    "\n",
    "\n",
    "\n"
   ]
  },
  {
   "cell_type": "code",
   "execution_count": 17,
   "metadata": {},
   "outputs": [
    {
     "name": "stdout",
     "output_type": "stream",
     "text": [
      "count    31643.000000\n",
      "mean        12.712029\n",
      "std         18.691557\n",
      "min          0.273973\n",
      "25%          1.818182\n",
      "50%          5.263158\n",
      "75%         14.516129\n",
      "max        100.000000\n",
      "Name: useage, dtype: float64\n",
      "--------------\n",
      "NANs in df\n",
      "id                                    0\n",
      "name                                  0\n",
      "host_id                               0\n",
      "host_name                            18\n",
      "neighbourhood_group               31643\n",
      "neighbourhood                         0\n",
      "latitude                              0\n",
      "longitude                             0\n",
      "room_type                             0\n",
      "price                                 0\n",
      "minimum_nights                        0\n",
      "number_of_reviews                     0\n",
      "last_review                           0\n",
      "reviews_per_month                     0\n",
      "calculated_host_listings_count        0\n",
      "availability_365                      0\n",
      "date                                  0\n",
      "useage                                0\n",
      "dtype: int64\n",
      "--------------\n",
      "mean of usage\n",
      "12.71202947063871\n",
      "--------------\n",
      "median of usage\n",
      "5.263157894736842\n"
     ]
    }
   ],
   "source": [
    "# describe useage of properties\n",
    "\n",
    "print(df.useage.describe())\n",
    "\n",
    "print('--------------')\n",
    "print('NANs in df')\n",
    "print(df.isna().sum())\n",
    "\n",
    "print('--------------')\n",
    "print('mean of usage')\n",
    "print(df.useage.mean())\n",
    "\n",
    "print('--------------')\n",
    "print('median of usage')\n",
    "print(df.useage.median())\n",
    "\n",
    "\n",
    "\n"
   ]
  },
  {
   "cell_type": "code",
   "execution_count": 18,
   "metadata": {},
   "outputs": [
    {
     "name": "stdout",
     "output_type": "stream",
     "text": [
      "35363342.0\n",
      "count     31643.000000\n",
      "mean       1117.572354\n",
      "std        2062.146941\n",
      "min           0.000000\n",
      "25%         220.500000\n",
      "50%         600.000000\n",
      "75%        1440.000000\n",
      "max      223040.000000\n",
      "Name: income, dtype: float64\n"
     ]
    },
    {
     "data": {
      "image/png": "[encoded data removed]",
      "text/plain": [
       "<Figure size 360x360 with 1 Axes>"
      ]
     },
     "metadata": {},
     "output_type": "display_data"
    }
   ],
   "source": [
    "# How much income was generated \n",
    "df['income'] = df['price'] * df['useage']/100 * df['availability_365']\n",
    "print(df['income'].sum())\n",
    "\n",
    "df['income'].hist(bins=100);\n",
    "print(df['income'].describe())\n",
    "\n"
   ]
  },
  {
   "cell_type": "markdown",
   "metadata": {},
   "source": [
    "### Data Modeling\n"
   ]
  },
  {
   "cell_type": "markdown",
   "metadata": {},
   "source": [
    "Next we will try to curve fit the results from the usage histogram with a simulated distribution of our own. "
   ]
  },
  {
   "cell_type": "code",
   "execution_count": 19,
   "metadata": {},
   "outputs": [
    {
     "name": "stdout",
     "output_type": "stream",
     "text": [
      "4.848484848484849\n"
     ]
    },
    {
     "name": "stderr",
     "output_type": "stream",
     "text": [
      "C:\\Users\\Jared\\Anaconda3\\lib\\site-packages\\scipy\\stats\\stats.py:1713: FutureWarning:\n",
      "\n",
      "Using a non-tuple sequence for multidimensional indexing is deprecated; use `arr[tuple(seq)]` instead of `arr[seq]`. In the future this will be interpreted as an array index, `arr[np.array(seq)]`, which will result either in an error or a different result.\n",
      "\n"
     ]
    },
    {
     "data": {
      "text/plain": [
       "[Text(0, 0.5, 'Frequency'), Text(0.5, 0, 'Exponential Distribution')]"
      ]
     },
     "execution_count": 19,
     "metadata": {},
     "output_type": "execute_result"
    },
    {
     "data": {
      "image/png": "[encoded data removed]",
      "text/plain": [
       "<Figure size 360x360 with 1 Axes>"
      ]
     },
     "metadata": {},
     "output_type": "display_data"
    }
   ],
   "source": [
    "# distrbution of useage\n",
    "#df['useage'].hist(bins=100);\n",
    "data =  df[df['useage'] < 60]\n",
    "print(df[df['useage'] < 60].useage.median())\n",
    "ax = sns.distplot(data['useage'],\n",
    "                  kde=True,\n",
    "                  bins=100,\n",
    "                  color='skyblue',\n",
    "                  hist_kws={\"linewidth\": 15,'alpha':1})\n",
    "ax.set(xlabel='Exponential Distribution', ylabel='Frequency')\n",
    "\n",
    "\n"
   ]
  },
  {
   "cell_type": "code",
   "execution_count": 20,
   "metadata": {},
   "outputs": [
    {
     "data": {
      "text/plain": [
       "[Text(0, 0.5, 'Frequency'), Text(0.5, 0, 'Exponential Distribution')]"
      ]
     },
     "execution_count": 20,
     "metadata": {},
     "output_type": "execute_result"
    },
    {
     "data": {
      "image/png": "[encoded data removed]",
      "text/plain": [
       "<Figure size 360x360 with 1 Axes>"
      ]
     },
     "metadata": {},
     "output_type": "display_data"
    }
   ],
   "source": [
    "# fitting a expontial distrbution to useage\n",
    "data_expon = expon.rvs(scale=5.5, loc=0, size=1000)\n",
    "ax = sns.distplot(data_expon,\n",
    "                  kde=True,\n",
    "                  bins=100,\n",
    "                  color='skyblue',\n",
    "                  hist_kws={\"linewidth\": 15,'alpha':1})\n",
    "ax.set(xlabel='Exponential Distribution', ylabel='Frequency')\n",
    "\n"
   ]
  },
  {
   "cell_type": "code",
   "execution_count": 21,
   "metadata": {},
   "outputs": [
    {
     "data": {
      "text/plain": [
       "[Text(0, 0.5, 'Frequency'), Text(0.5, 0, 'Exponential Distribution')]"
      ]
     },
     "execution_count": 21,
     "metadata": {},
     "output_type": "execute_result"
    },
    {
     "data": {
      "image/png": "[encoded data removed]",
      "text/plain": [
       "<Figure size 360x360 with 1 Axes>"
      ]
     },
     "metadata": {},
     "output_type": "display_data"
    }
   ],
   "source": [
    "# fitting a gamma distrbution to useage\n",
    "data_gamma = gamma.rvs(a=20, size=10000)\n",
    "ax = sns.distplot(data_gamma,\n",
    "                  kde=True,\n",
    "                  bins=100,\n",
    "                  color='skyblue',\n",
    "                  hist_kws={\"linewidth\": 15,'alpha':1})\n",
    "ax.set(xlabel='Exponential Distribution', ylabel='Frequency')\n",
    "\n",
    "\n",
    "\n"
   ]
  },
  {
   "cell_type": "code",
   "execution_count": 22,
   "metadata": {},
   "outputs": [],
   "source": [
    "# monte-carlo simulation functions\n",
    "def get_rand_numbers(scale=5, size=1000):\n",
    "    \"\"\"\n",
    "    This function generates a random number from a gamma distribution\n",
    "    Return:\n",
    "    - Random number (float)\n",
    "    \"\"\"\n",
    "    roll = expon.rvs(scale=scale, loc=0, size=size)\n",
    "    roll = roll/100\n",
    "    return roll\n",
    "\n",
    "def monte_carlo_sim(df, scale =4.9, number_sim = 100):\n",
    "    \"\"\"\n",
    "    This function generates a monte-carlo simulation to determine the distribution of \n",
    "    overall incomes which are possible given a specific dataframe\n",
    "    and gamma distribution\n",
    "    Return:\n",
    "    - final_income (array of int) each value represents the sum of the income from that simulation\n",
    "    \"\"\"\n",
    "    x = 0\n",
    "    final_income = []\n",
    "    while x < number_sim:  \n",
    "        sim_outputs = df['price'] * df['availability_365']\n",
    "        y = np.array(get_rand_numbers(scale = scale, size=sim_outputs.shape[0]))\n",
    "        income_iter = sum(sim_outputs.multiply(y, axis=0))\t\n",
    "        final_income.append(income_iter)\n",
    "        x+=1 # increase the count\n",
    "    return final_income\n",
    "\n"
   ]
  },
  {
   "cell_type": "markdown",
   "metadata": {},
   "source": [
    "### Evaluate the Results"
   ]
  },
  {
   "cell_type": "markdown",
   "metadata": {},
   "source": [
    "Lastly we will evaluate our curve that we fitted earlier using monte-carlos simulations against the true estimates of the actual income earned from the listings (the red line in the plot below), compared against a 100k simulations. In the results we can see how much Airbnb's London listing earned ~£35.5M compared to the simulated results, that do seem to fit around the mean of the actual results. "
   ]
  },
  {
   "cell_type": "code",
   "execution_count": 23,
   "metadata": {},
   "outputs": [
    {
     "data": {
      "image/png": "[encoded data removed]",
      "text/plain": [
       "<Figure size 360x360 with 1 Axes>"
      ]
     },
     "metadata": {},
     "output_type": "display_data"
    }
   ],
   "source": [
    "# monte-carlo simulation of income generated\n",
    "def plot_simulation(df, scale = 5.2, number_sim = 1000):\n",
    "    \"\"\"\n",
    "    This function generates a monte-carlo simulation to determine the distribution of \n",
    "    overall incomes which are possible given a specific dataframe\n",
    "    and gamma distribution\n",
    "    Return:\n",
    "    - final_income (array of int) each value represents the sum of the income from that simulation\n",
    "    \"\"\"\n",
    "    sim_outputs = monte_carlo_sim(df=df, scale=scale, number_sim = number_sim)\n",
    "    data = array(sim_outputs)\n",
    "    plt.xlim([min(data), max(data)])\n",
    "    plt.hist(data, bins=100)\n",
    "    plt.title('Random Gaussian data (fixed bin size)')\n",
    "    plt.xlabel('variable X (bin size = 5)')\n",
    "    plt.ylabel('count')\n",
    "    plt.axvline(df['income'].sum(), color='r')\n",
    "    plt.show()\n",
    "\n",
    "\n",
    "\n",
    "plot_simulation(df , scale = 5.2, number_sim = 100000)\n",
    "\n"
   ]
  }
 ],
 "metadata": {
  "file_extension": ".py",
  "kernelspec": {
   "display_name": "Python 3",
   "language": "python",
   "name": "python3"
  },
  "language_info": {
   "codemirror_mode": {
    "name": "ipython",
    "version": 3
   },
   "file_extension": ".py",
   "mimetype": "text/x-python",
   "name": "python",
   "nbconvert_exporter": "python",
   "pygments_lexer": "ipython3",
   "version": "3.7.1"
  },
  "mimetype": "text/x-python",
  "name": "python",
  "npconvert_exporter": "python",
  "pygments_lexer": "ipython3",
  "version": 3
 },
 "nbformat": 4,
 "nbformat_minor": 2
}
